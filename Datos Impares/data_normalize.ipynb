{
 "cells": [
  {
   "cell_type": "code",
   "execution_count": 98,
   "metadata": {},
   "outputs": [],
   "source": [
    "import pandas as pd"
   ]
  },
  {
   "cell_type": "code",
   "execution_count": 109,
   "metadata": {},
   "outputs": [],
   "source": [
    "# Read the data\n",
    "artistas = pd.read_csv('Artistas.csv', sep=',')\n",
    "artistas = artistas.drop_duplicates()\n",
    "\n",
    "entradas = pd.read_csv('Entradas Cortesia.csv', sep=',')\n",
    "entradas = entradas.drop_duplicates()\n",
    "\n",
    "eventos = pd.read_csv('Eventos.csv', sep=',')\n",
    "eventos = eventos.drop_duplicates()\n",
    "\n",
    "hosp_traslados = pd.read_csv('Hospedajes y Traslados.csv', sep=',')\n",
    "hosp_traslados = hosp_traslados.drop_duplicates()\n",
    "\n",
    "productoras = pd.read_csv('Productoras.csv', sep=',')\n",
    "productoras = productoras.drop_duplicates()\n",
    "\n",
    "tour = pd.read_csv('Tour.csv', sep=',')\n",
    "tour = tour.drop_duplicates()\n",
    "\n",
    "\n",
    "artistas = artistas.rename(columns={'Nombre artistico': 'Artista'})\n",
    "entradas = entradas.rename(columns={'evento': 'Evento'})\n",
    "entradas = entradas.rename(columns={'artista': 'Artista'})"
   ]
  },
  {
   "cell_type": "code",
   "execution_count": 110,
   "metadata": {},
   "outputs": [],
   "source": [
    "artistas['id'] = range(1, len(artistas) + 1)\n",
    "entradas['id'] = range(1, len(entradas) + 1)\n",
    "eventos['id'] = range(1, len(eventos) + 1)\n",
    "hosp_traslados['id'] = range(1, len(hosp_traslados) + 1)\n",
    "productoras['id'] = range(1, len(productoras) + 1)\n",
    "tour['id'] = range(1, len(tour) + 1)"
   ]
  },
  {
   "cell_type": "code",
   "execution_count": 111,
   "metadata": {},
   "outputs": [],
   "source": [
    "entradas = entradas.merge(artistas[['id', 'Artista']], on='Artista', how='left')\n",
    "entradas = entradas.rename(columns={'id_x': 'id_entrada', 'id_y': 'id_artista'})\n",
    "eventos = eventos.merge(artistas[['id', 'Artista']], on='Artista', how='left')\n",
    "eventos = eventos.rename(columns={'id_x': 'id_evento', 'id_y': 'id_artista'})\n",
    "entradas = entradas.drop(columns=['Artista'])\n",
    "eventos = eventos.drop(columns=['Artista'])\n",
    "entradas = entradas.merge(eventos[['id_evento', 'Evento']], on='Evento', how='left')\n",
    "entradas = entradas.drop(columns=['Evento'])"
   ]
  },
  {
   "cell_type": "code",
   "execution_count": 112,
   "metadata": {},
   "outputs": [],
   "source": [
    "entradas = entradas.rename(columns={'id_entrada': 'ID_entrada', 'id_artista': 'ID_artista', 'id_evento': 'ID_evento'})\n",
    "artistas = artistas.rename(columns={'Artista': 'Nombre', 'id': 'ID_artista', 'Inicio carrera': 'Fecha_inicio', 'Nº contacto': 'Contacto'})\n",
    "# export artistas to csv\n",
    "artistas.to_csv('artistas_bdd.csv', index=False)\n",
    "# export entradas to csv\n",
    "entradas.to_csv('entradas_bdd.csv', index=False)"
   ]
  },
  {
   "cell_type": "code",
   "execution_count": 113,
   "metadata": {},
   "outputs": [
    {
     "data": {
      "text/html": [
       "<div>\n",
       "<style scoped>\n",
       "    .dataframe tbody tr th:only-of-type {\n",
       "        vertical-align: middle;\n",
       "    }\n",
       "\n",
       "    .dataframe tbody tr th {\n",
       "        vertical-align: top;\n",
       "    }\n",
       "\n",
       "    .dataframe thead th {\n",
       "        text-align: right;\n",
       "    }\n",
       "</style>\n",
       "<table border=\"1\" class=\"dataframe\">\n",
       "  <thead>\n",
       "    <tr style=\"text-align: right;\">\n",
       "      <th></th>\n",
       "      <th>Nombre</th>\n",
       "      <th>Fecha_inicio</th>\n",
       "      <th>Contacto</th>\n",
       "      <th>ID_artista</th>\n",
       "    </tr>\n",
       "  </thead>\n",
       "  <tbody>\n",
       "    <tr>\n",
       "      <th>0</th>\n",
       "      <td>Duki</td>\n",
       "      <td>14/02/2019</td>\n",
       "      <td>947967523</td>\n",
       "      <td>1</td>\n",
       "    </tr>\n",
       "    <tr>\n",
       "      <th>1</th>\n",
       "      <td>Backstreet Boys</td>\n",
       "      <td>23/01/1994</td>\n",
       "      <td>933555053</td>\n",
       "      <td>2</td>\n",
       "    </tr>\n",
       "    <tr>\n",
       "      <th>2</th>\n",
       "      <td>Michael Jackson</td>\n",
       "      <td>04/02/1980</td>\n",
       "      <td>973673018</td>\n",
       "      <td>3</td>\n",
       "    </tr>\n",
       "    <tr>\n",
       "      <th>3</th>\n",
       "      <td>Mon Laferte</td>\n",
       "      <td>18/07/2008</td>\n",
       "      <td>982606150</td>\n",
       "      <td>4</td>\n",
       "    </tr>\n",
       "    <tr>\n",
       "      <th>4</th>\n",
       "      <td>Khea</td>\n",
       "      <td>16/06/2013</td>\n",
       "      <td>927484546</td>\n",
       "      <td>5</td>\n",
       "    </tr>\n",
       "    <tr>\n",
       "      <th>...</th>\n",
       "      <td>...</td>\n",
       "      <td>...</td>\n",
       "      <td>...</td>\n",
       "      <td>...</td>\n",
       "    </tr>\n",
       "    <tr>\n",
       "      <th>374</th>\n",
       "      <td>La Oreja de Van Gogh</td>\n",
       "      <td>08/03/2001</td>\n",
       "      <td>966357123</td>\n",
       "      <td>196</td>\n",
       "    </tr>\n",
       "    <tr>\n",
       "      <th>378</th>\n",
       "      <td>Bizarrap</td>\n",
       "      <td>11/12/2017</td>\n",
       "      <td>957841287</td>\n",
       "      <td>197</td>\n",
       "    </tr>\n",
       "    <tr>\n",
       "      <th>397</th>\n",
       "      <td>Nicki Minaj</td>\n",
       "      <td>02/07/2010</td>\n",
       "      <td>975557868</td>\n",
       "      <td>198</td>\n",
       "    </tr>\n",
       "    <tr>\n",
       "      <th>411</th>\n",
       "      <td>Camila</td>\n",
       "      <td>26/06/2009</td>\n",
       "      <td>965638977</td>\n",
       "      <td>199</td>\n",
       "    </tr>\n",
       "    <tr>\n",
       "      <th>441</th>\n",
       "      <td>Mercedes Sosa</td>\n",
       "      <td>29/05/1982</td>\n",
       "      <td>963954428</td>\n",
       "      <td>200</td>\n",
       "    </tr>\n",
       "  </tbody>\n",
       "</table>\n",
       "<p>200 rows × 4 columns</p>\n",
       "</div>"
      ],
      "text/plain": [
       "                   Nombre Fecha_inicio   Contacto  ID_artista\n",
       "0                    Duki   14/02/2019  947967523           1\n",
       "1         Backstreet Boys   23/01/1994  933555053           2\n",
       "2         Michael Jackson   04/02/1980  973673018           3\n",
       "3             Mon Laferte   18/07/2008  982606150           4\n",
       "4                    Khea   16/06/2013  927484546           5\n",
       "..                    ...          ...        ...         ...\n",
       "374  La Oreja de Van Gogh   08/03/2001  966357123         196\n",
       "378              Bizarrap   11/12/2017  957841287         197\n",
       "397           Nicki Minaj   02/07/2010  975557868         198\n",
       "411                Camila   26/06/2009  965638977         199\n",
       "441         Mercedes Sosa   29/05/1982  963954428         200\n",
       "\n",
       "[200 rows x 4 columns]"
      ]
     },
     "execution_count": 113,
     "metadata": {},
     "output_type": "execute_result"
    }
   ],
   "source": [
    "artistas"
   ]
  },
  {
   "cell_type": "code",
   "execution_count": null,
   "metadata": {},
   "outputs": [],
   "source": []
  }
 ],
 "metadata": {
  "kernelspec": {
   "display_name": "Python 3.10.6 64-bit",
   "language": "python",
   "name": "python3"
  },
  "language_info": {
   "codemirror_mode": {
    "name": "ipython",
    "version": 3
   },
   "file_extension": ".py",
   "mimetype": "text/x-python",
   "name": "python",
   "nbconvert_exporter": "python",
   "pygments_lexer": "ipython3",
   "version": "3.10.6"
  },
  "orig_nbformat": 4,
  "vscode": {
   "interpreter": {
    "hash": "6e3977c52f5249dbc2a33b897faad1e0916758085298811edbd14ed6ad707d81"
   }
  }
 },
 "nbformat": 4,
 "nbformat_minor": 2
}
