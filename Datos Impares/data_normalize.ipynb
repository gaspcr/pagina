{
 "cells": [
  {
   "cell_type": "code",
   "execution_count": 406,
   "metadata": {},
   "outputs": [],
   "source": [
    "import pandas as pd"
   ]
  },
  {
   "cell_type": "code",
   "execution_count": 407,
   "metadata": {},
   "outputs": [],
   "source": [
    "# Read the data\n",
    "artistas = pd.read_csv('Artistas.csv', sep=',')\n",
    "artistas = artistas.drop_duplicates()\n",
    "\n",
    "entradas = pd.read_csv('Entradas Cortesia.csv', sep=',')\n",
    "entradas = entradas.drop_duplicates()\n",
    "\n",
    "eventos = pd.read_csv('Eventos.csv', sep=',')\n",
    "eventos = eventos.drop_duplicates()\n",
    "\n",
    "hosp_traslados = pd.read_csv('Hospedajes y Traslados.csv', sep=',')\n",
    "hosp_traslados = hosp_traslados.drop_duplicates()\n",
    "\n",
    "productoras = pd.read_csv('Productoras.csv', sep=',')\n",
    "productoras = productoras.drop_duplicates()\n",
    "\n",
    "tour = pd.read_csv('Tour.csv', sep=',')\n",
    "tour = tour.drop_duplicates()\n",
    "\n",
    "\n",
    "artistas = artistas.rename(columns={'Nombre artistico': 'Artista'})\n",
    "entradas = entradas.rename(columns={'evento': 'Evento'})\n",
    "entradas = entradas.rename(columns={'artista': 'Nombre'})"
   ]
  },
  {
   "cell_type": "code",
   "execution_count": 408,
   "metadata": {},
   "outputs": [],
   "source": [
    "artistas['ID_artista'] = pd.Series(range(1, len(artistas) + 1), index=artistas.index)\n",
    "artistas['ID_artista'] = artistas['ID_artista'].apply(lambda x: 'A' + str(x))\n",
    "\n",
    "entradas['ID_entrada'] = pd.Series(range(1, len(entradas) + 1), index=entradas.index)\n",
    "entradas['ID_entrada'] = entradas['ID_entrada'].apply(lambda x: 'E' + str(x))\n",
    "\n",
    "eventos['ID_evento'] = pd.Series(range(1, len(eventos) + 1), index=eventos.index)\n",
    "eventos['ID_evento'] = eventos['ID_evento'].apply(lambda x: 'E' + str(x))\n",
    "\n",
    "productoras['ID_productora'] = pd.Series(range(1, len(productoras) + 1), index=productoras.index)\n",
    "productoras['ID_productora'] = productoras['ID_productora'].apply(lambda x: 'P' + str(x))\n",
    "\n",
    "tour['ID_tour'] = pd.Series(range(1, len(tour) + 1), index=tour.index)\n",
    "tour['ID_tour'] = tour['ID_tour'].apply(lambda x: 'T' + str(x))"
   ]
  },
  {
   "cell_type": "code",
   "execution_count": 409,
   "metadata": {},
   "outputs": [],
   "source": [
    "artistas = artistas.rename(columns={'Artista': 'Nombre', 'id': 'ID_artista', 'Inicio carrera': 'Fecha_inicio', 'Nº contacto': 'Contacto'})\n",
    "artistas['Artista'] = artistas['Nombre'].str.normalize('NFKD').str.encode('ascii', errors='ignore').str.decode('utf-8')\n",
    "artistas = artistas.drop(['Artista'], axis=1)\n",
    "entradas = entradas.merge(artistas[['Nombre', 'ID_artista']], on='Nombre', how='left')\n",
    "entradas = entradas.drop(['Nombre'], axis=1)\n",
    "artistas['Nombre'] = artistas['Nombre'].str.lower()\n",
    "# poner en minuscula y quitar acentos a todas las columnas de tipo string de la tabla eventos\n",
    "eventos['Evento'] = eventos['Evento'].str.normalize('NFKD').str.encode('ascii', errors='ignore').str.decode('utf-8')\n",
    "# cambiar nombre  artistas a Artista en artistas\n",
    "artistas = artistas.rename(columns={'Nombre': 'Artista'})"
   ]
  },
  {
   "cell_type": "code",
   "execution_count": 410,
   "metadata": {},
   "outputs": [],
   "source": [
    "entradas.to_csv('entradas_bdd.csv', index=False)\n",
    "artistas.to_csv('artistas_bdd.csv', index=False)\n",
    "eventos.to_csv('eventos_bdd.csv', index=False)"
   ]
  },
  {
   "cell_type": "code",
   "execution_count": null,
   "metadata": {},
   "outputs": [],
   "source": []
  }
 ],
 "metadata": {
  "kernelspec": {
   "display_name": "Python 3.10.6 64-bit",
   "language": "python",
   "name": "python3"
  },
  "language_info": {
   "codemirror_mode": {
    "name": "ipython",
    "version": 3
   },
   "file_extension": ".py",
   "mimetype": "text/x-python",
   "name": "python",
   "nbconvert_exporter": "python",
   "pygments_lexer": "ipython3",
   "version": "3.10.6"
  },
  "orig_nbformat": 4,
  "vscode": {
   "interpreter": {
    "hash": "6e3977c52f5249dbc2a33b897faad1e0916758085298811edbd14ed6ad707d81"
   }
  }
 },
 "nbformat": 4,
 "nbformat_minor": 2
}
