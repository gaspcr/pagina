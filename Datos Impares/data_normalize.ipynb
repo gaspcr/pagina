{
 "cells": [
  {
   "cell_type": "code",
   "execution_count": 1,
   "metadata": {},
   "outputs": [],
   "source": [
    "import pandas as pd"
   ]
  },
  {
   "cell_type": "code",
   "execution_count": 2,
   "metadata": {},
   "outputs": [],
   "source": [
    "# Read the data\n",
    "artistas = pd.read_csv('Artistas.csv', sep=',')\n",
    "artistas = artistas.drop_duplicates()\n",
    "\n",
    "entradas = pd.read_csv('Entradas Cortesia.csv', sep=',')\n",
    "entradas = entradas.drop_duplicates()\n",
    "\n",
    "eventos = pd.read_csv('Eventos.csv', sep=',')\n",
    "eventos = eventos.drop_duplicates()\n",
    "\n",
    "hosp_traslados = pd.read_csv('Hospedajes y Traslados.csv', sep=',')\n",
    "hosp_traslados = hosp_traslados.drop_duplicates()\n",
    "\n",
    "productoras = pd.read_csv('Productoras.csv', sep=',')\n",
    "productoras = productoras.drop_duplicates()\n",
    "\n",
    "tour = pd.read_csv('Tour.csv', sep=',')\n",
    "tour = tour.drop_duplicates()\n",
    "\n",
    "# replace the 'nombre artistico' column in artistas table with 'Artista'\n",
    "artistas = artistas.rename(columns={'Nombre artistico': 'Artista'})\n",
    "entradas = entradas.rename(columns={'evento': 'Evento'})\n",
    "entradas = entradas.rename(columns={'artista': 'Artista'})"
   ]
  },
  {
   "cell_type": "code",
   "execution_count": 3,
   "metadata": {},
   "outputs": [],
   "source": [
    "# Add a id column to artistas\n",
    "artistas['id'] = range(1, len(artistas) + 1)\n",
    "# Add a id column to entradas table\n",
    "entradas['id'] = range(1, len(entradas) + 1)\n",
    "# Add a id column to eventos table\n",
    "eventos['id'] = range(1, len(eventos) + 1)"
   ]
  },
  {
   "cell_type": "code",
   "execution_count": 4,
   "metadata": {},
   "outputs": [],
   "source": [
    "# agregar columna id_artista a entradas\n",
    "entradas = entradas.merge(artistas[['id', 'Artista']], on='Artista', how='left')\n",
    "# renombrar id_x a id_entrada y id_y a id_artista\n",
    "entradas = entradas.rename(columns={'id_x': 'id_entrada', 'id_y': 'id_artista'})\n",
    "# agregar columna id_artista a eventos\n",
    "eventos = eventos.merge(artistas[['id', 'Artista']], on='Artista', how='left')\n",
    "# renombrar id_x a id_evento y id_y a id_artista\n",
    "eventos = eventos.rename(columns={'id_x': 'id_evento', 'id_y': 'id_artista'})\n",
    "#quitar columna artista de eventos\n",
    "eventos = eventos.drop(columns=['Artista'])\n",
    "#quitar columna artista de entradas\n",
    "entradas = entradas.drop(columns=['Artista'])\n",
    "# agregar columna id_evento a entradas\n",
    "entradas = entradas.merge(eventos[['id_evento', 'Evento']], on='Evento', how='left')\n",
    "# quitamos la columna evento de entradas\n",
    "entradas = entradas.drop(columns=['Evento'])"
   ]
  },
  {
   "cell_type": "code",
   "execution_count": null,
   "metadata": {},
   "outputs": [],
   "source": []
  }
 ],
 "metadata": {
  "kernelspec": {
   "display_name": "Python 3.10.6 64-bit",
   "language": "python",
   "name": "python3"
  },
  "language_info": {
   "codemirror_mode": {
    "name": "ipython",
    "version": 3
   },
   "file_extension": ".py",
   "mimetype": "text/x-python",
   "name": "python",
   "nbconvert_exporter": "python",
   "pygments_lexer": "ipython3",
   "version": "3.10.6"
  },
  "orig_nbformat": 4,
  "vscode": {
   "interpreter": {
    "hash": "6e3977c52f5249dbc2a33b897faad1e0916758085298811edbd14ed6ad707d81"
   }
  }
 },
 "nbformat": 4,
 "nbformat_minor": 2
}
