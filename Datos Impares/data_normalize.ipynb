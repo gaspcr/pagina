{
 "cells": [
  {
   "cell_type": "code",
   "execution_count": 217,
   "metadata": {},
   "outputs": [],
   "source": [
    "import pandas as pd"
   ]
  },
  {
   "cell_type": "code",
   "execution_count": 363,
   "metadata": {},
   "outputs": [],
   "source": [
    "# Read the data\n",
    "artistas = pd.read_csv('Artistas.csv', sep=',')\n",
    "artistas = artistas.drop_duplicates()\n",
    "\n",
    "entradas = pd.read_csv('Entradas Cortesia.csv', sep=',')\n",
    "entradas = entradas.drop_duplicates()\n",
    "\n",
    "eventos = pd.read_csv('Eventos.csv', sep=',')\n",
    "eventos = eventos.drop_duplicates()\n",
    "\n",
    "hosp_traslados = pd.read_csv('Hospedajes y Traslados.csv', sep=',')\n",
    "hosp_traslados = hosp_traslados.drop_duplicates()\n",
    "\n",
    "productoras = pd.read_csv('Productoras.csv', sep=',')\n",
    "productoras = productoras.drop_duplicates()\n",
    "\n",
    "tour = pd.read_csv('Tour.csv', sep=',')\n",
    "tour = tour.drop_duplicates()\n",
    "\n",
    "\n",
    "artistas = artistas.rename(columns={'Nombre artistico': 'Artista'})\n",
    "entradas = entradas.rename(columns={'evento': 'Evento'})\n",
    "entradas = entradas.rename(columns={'artista': 'Nombre'})"
   ]
  },
  {
   "cell_type": "code",
   "execution_count": 364,
   "metadata": {},
   "outputs": [],
   "source": [
    "artistas['ID_artista'] = pd.Series(range(1, len(artistas) + 1), index=artistas.index)\n",
    "artistas['ID_artista'] = artistas['ID_artista'].apply(lambda x: 'A' + str(x))\n",
    "\n",
    "entradas['ID_entrada'] = pd.Series(range(1, len(entradas) + 1), index=entradas.index)\n",
    "entradas['ID_entrada'] = entradas['ID_entrada'].apply(lambda x: 'E' + str(x))\n",
    "\n",
    "eventos['ID_evento'] = pd.Series(range(1, len(eventos) + 1), index=eventos.index)\n",
    "eventos['ID_evento'] = eventos['ID_evento'].apply(lambda x: 'E' + str(x))\n",
    "\n",
    "productoras['ID_productora'] = pd.Series(range(1, len(productoras) + 1), index=productoras.index)\n",
    "productoras['id_productora'] = productoras['ID_productora'].apply(lambda x: 'P' + str(x))\n",
    "\n",
    "tour['ID_tour'] = pd.Series(range(1, len(tour) + 1), index=tour.index)\n",
    "tour['ID_tour'] = tour['ID_tour'].apply(lambda x: 'T' + str(x))"
   ]
  },
  {
   "cell_type": "code",
   "execution_count": 365,
   "metadata": {},
   "outputs": [],
   "source": [
    "artistas = artistas.rename(columns={'Artista': 'Nombre', 'id': 'ID_artista', 'Inicio carrera': 'Fecha_inicio', 'Nº contacto': 'Contacto'})\n",
    "artistas['Artista'] = artistas['Nombre'].str.normalize('NFKD').str.encode('ascii', errors='ignore').str.decode('utf-8')\n",
    "artistas = artistas.drop(['Artista'], axis=1)\n",
    "entradas = entradas.merge(artistas[['Nombre', 'ID_artista']], on='Nombre', how='left')\n",
    "entradas = entradas.drop(['Nombre'], axis=1)"
   ]
  },
  {
   "cell_type": "code",
   "execution_count": 367,
   "metadata": {},
   "outputs": [],
   "source": [
    "entradas.to_csv('entradas_bdd.csv', index=False)\n",
    "artistas.to_csv('artistas_bdd.csv', index=False)"
   ]
  },
  {
   "cell_type": "code",
   "execution_count": 370,
   "metadata": {},
   "outputs": [
    {
     "data": {
      "text/html": [
       "<div>\n",
       "<style scoped>\n",
       "    .dataframe tbody tr th:only-of-type {\n",
       "        vertical-align: middle;\n",
       "    }\n",
       "\n",
       "    .dataframe tbody tr th {\n",
       "        vertical-align: top;\n",
       "    }\n",
       "\n",
       "    .dataframe thead th {\n",
       "        text-align: right;\n",
       "    }\n",
       "</style>\n",
       "<table border=\"1\" class=\"dataframe\">\n",
       "  <thead>\n",
       "    <tr style=\"text-align: right;\">\n",
       "      <th></th>\n",
       "      <th>Evento</th>\n",
       "      <th>asiento</th>\n",
       "      <th>ID_entrada</th>\n",
       "      <th>ID_artista</th>\n",
       "    </tr>\n",
       "  </thead>\n",
       "  <tbody>\n",
       "    <tr>\n",
       "      <th>0</th>\n",
       "      <td>Bangerz</td>\n",
       "      <td>D15</td>\n",
       "      <td>E1</td>\n",
       "      <td>A157</td>\n",
       "    </tr>\n",
       "    <tr>\n",
       "      <th>1</th>\n",
       "      <td>I Aint Worried</td>\n",
       "      <td>A17</td>\n",
       "      <td>E2</td>\n",
       "      <td>A173</td>\n",
       "    </tr>\n",
       "    <tr>\n",
       "      <th>2</th>\n",
       "      <td>Show Forest</td>\n",
       "      <td>A12</td>\n",
       "      <td>E3</td>\n",
       "      <td>A145</td>\n",
       "    </tr>\n",
       "    <tr>\n",
       "      <th>3</th>\n",
       "      <td>Bang Bang</td>\n",
       "      <td>C30</td>\n",
       "      <td>E4</td>\n",
       "      <td>A126</td>\n",
       "    </tr>\n",
       "    <tr>\n",
       "      <th>4</th>\n",
       "      <td>DJ Snake</td>\n",
       "      <td>D12</td>\n",
       "      <td>E5</td>\n",
       "      <td>A46</td>\n",
       "    </tr>\n",
       "    <tr>\n",
       "      <th>...</th>\n",
       "      <td>...</td>\n",
       "      <td>...</td>\n",
       "      <td>...</td>\n",
       "      <td>...</td>\n",
       "    </tr>\n",
       "    <tr>\n",
       "      <th>140</th>\n",
       "      <td>Say you wont let go</td>\n",
       "      <td>A30</td>\n",
       "      <td>E141</td>\n",
       "      <td>A108</td>\n",
       "    </tr>\n",
       "    <tr>\n",
       "      <th>141</th>\n",
       "      <td>Epic Show</td>\n",
       "      <td>A29</td>\n",
       "      <td>E142</td>\n",
       "      <td>A104</td>\n",
       "    </tr>\n",
       "    <tr>\n",
       "      <th>142</th>\n",
       "      <td>Que oso</td>\n",
       "      <td>B28</td>\n",
       "      <td>E143</td>\n",
       "      <td>A169</td>\n",
       "    </tr>\n",
       "    <tr>\n",
       "      <th>143</th>\n",
       "      <td>Fruta y te</td>\n",
       "      <td>C0</td>\n",
       "      <td>E144</td>\n",
       "      <td>A28</td>\n",
       "    </tr>\n",
       "    <tr>\n",
       "      <th>144</th>\n",
       "      <td>Beyond Wonderland</td>\n",
       "      <td>D26</td>\n",
       "      <td>E145</td>\n",
       "      <td>A88</td>\n",
       "    </tr>\n",
       "  </tbody>\n",
       "</table>\n",
       "<p>145 rows × 4 columns</p>\n",
       "</div>"
      ],
      "text/plain": [
       "                  Evento asiento ID_entrada ID_artista\n",
       "0                Bangerz     D15         E1       A157\n",
       "1         I Aint Worried     A17         E2       A173\n",
       "2            Show Forest     A12         E3       A145\n",
       "3              Bang Bang     C30         E4       A126\n",
       "4               DJ Snake     D12         E5        A46\n",
       "..                   ...     ...        ...        ...\n",
       "140  Say you wont let go     A30       E141       A108\n",
       "141            Epic Show     A29       E142       A104\n",
       "142              Que oso     B28       E143       A169\n",
       "143           Fruta y te      C0       E144        A28\n",
       "144    Beyond Wonderland     D26       E145        A88\n",
       "\n",
       "[145 rows x 4 columns]"
      ]
     },
     "execution_count": 370,
     "metadata": {},
     "output_type": "execute_result"
    }
   ],
   "source": [
    "entradas"
   ]
  },
  {
   "cell_type": "code",
   "execution_count": null,
   "metadata": {},
   "outputs": [],
   "source": []
  }
 ],
 "metadata": {
  "kernelspec": {
   "display_name": "Python 3.10.6 64-bit",
   "language": "python",
   "name": "python3"
  },
  "language_info": {
   "codemirror_mode": {
    "name": "ipython",
    "version": 3
   },
   "file_extension": ".py",
   "mimetype": "text/x-python",
   "name": "python",
   "nbconvert_exporter": "python",
   "pygments_lexer": "ipython3",
   "version": "3.10.6"
  },
  "orig_nbformat": 4,
  "vscode": {
   "interpreter": {
    "hash": "6e3977c52f5249dbc2a33b897faad1e0916758085298811edbd14ed6ad707d81"
   }
  }
 },
 "nbformat": 4,
 "nbformat_minor": 2
}
