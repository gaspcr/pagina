{
 "cells": [
  {
   "cell_type": "code",
   "execution_count": 1,
   "metadata": {},
   "outputs": [],
   "source": [
    "import pandas as pd\n",
    "import numpy as np"
   ]
  },
  {
   "cell_type": "code",
   "execution_count": 2,
   "metadata": {},
   "outputs": [],
   "source": [
    "# Read the data\n",
    "artistas = pd.read_csv('Artistas.csv', sep=',')\n",
    "artistas = artistas.drop_duplicates()\n",
    "\n",
    "entradas = pd.read_csv('Entradas Cortesia.csv', sep=',')\n",
    "entradas = entradas.drop_duplicates()\n",
    "\n",
    "eventos = pd.read_csv('Eventos.csv', sep=',')\n",
    "eventos = eventos.drop_duplicates()\n",
    "\n",
    "hosp_traslados = pd.read_csv('Hospedajes y Traslados.csv', sep=',')\n",
    "hosp_traslados = hosp_traslados.drop_duplicates()\n",
    "\n",
    "productoras = pd.read_csv('Productoras.csv', sep=',')\n",
    "productoras = productoras.drop_duplicates()\n",
    "\n",
    "tour = pd.read_csv('Tour.csv', sep=',')\n",
    "tour = tour.drop_duplicates()\n",
    "\n",
    "\n",
    "artistas = artistas.rename(columns={'Nombre artistico': 'Artista'})\n",
    "entradas = entradas.rename(columns={'evento': 'Evento'})\n",
    "entradas = entradas.rename(columns={'artista': 'Nombre'})"
   ]
  },
  {
   "cell_type": "code",
   "execution_count": 3,
   "metadata": {},
   "outputs": [],
   "source": [
    "artistas['ID_artista'] = pd.Series(range(1, len(artistas) + 1), index=artistas.index)\n",
    "artistas['ID_artista'] = artistas['ID_artista'].apply(lambda x: 'A' + str(x))\n",
    "\n",
    "entradas['ID_entrada'] = pd.Series(range(1, len(entradas) + 1), index=entradas.index)\n",
    "entradas['ID_entrada'] = entradas['ID_entrada'].apply(lambda x: 'E' + str(x))\n",
    "\n",
    "eventos['ID_evento'] = pd.Series(range(1, len(eventos) + 1), index=eventos.index)\n",
    "eventos['ID_evento'] = eventos['ID_evento'].apply(lambda x: 'E' + str(x))\n",
    "\n",
    "productoras['ID_productora'] = pd.Series(range(1, len(productoras) + 1), index=productoras.index)\n",
    "productoras['ID_productora'] = productoras['ID_productora'].apply(lambda x: 'P' + str(x))\n",
    "\n",
    "tour['ID_tour'] = pd.Series(range(1, len(tour) + 1), index=tour.index)\n",
    "tour['ID_tour'] = tour['ID_tour'].apply(lambda x: 'T' + str(x))\n",
    "\n",
    "hosp_traslados['ID_hosp_traslado'] = pd.Series(range(1, len(hosp_traslados) + 1), index=hosp_traslados.index)\n",
    "hosp_traslados['ID_hosp_traslado'] = hosp_traslados['ID_hosp_traslado'].apply(lambda x: 'HT' + str(x))"
   ]
  },
  {
   "cell_type": "code",
   "execution_count": 4,
   "metadata": {},
   "outputs": [],
   "source": [
    "artistas = artistas.rename(columns={'Artista': 'Nombre', 'id': 'ID_artista', 'Inicio carrera': 'Fecha_inicio', 'Nº contacto': 'Contacto'})\n",
    "artistas['Artista'] = artistas['Nombre'].str.normalize('NFKD').str.encode('ascii', errors='ignore').str.decode('utf-8')\n",
    "artistas = artistas.drop(['Artista'], axis=1)\n",
    "entradas = entradas.merge(artistas[['Nombre', 'ID_artista']], on='Nombre', how='left')\n",
    "# poner en minuscula y quitar acentos a todas las columnas de tipo string de la tabla eventos\n",
    "eventos['Evento'] = eventos['Evento'].str.normalize('NFKD').str.encode('ascii', errors='ignore').str.decode('utf-8')\n",
    "# cambiar nombre  artistas a Artista en artistas\n",
    "artistas = artistas.rename(columns={'Nombre': 'Artista'})\n",
    "eventos = eventos.rename(columns={'Fecha de incio': 'Fecha_inicio'})\n",
    "entradas = entradas.rename(columns={'Nombre': 'Artista'})\n",
    "entradas = entradas.drop(['ID_artista'], axis=1)\n",
    "productoras = productoras.rename(columns={'País': 'Pais', 'Nº contacto': 'Contacto'})\n",
    "hosp_traslados = hosp_traslados.rename(columns={'fecha inicio': 'fecha_inicio', 'fecha termino': 'fecha_termino', 'hora llegada': 'hora_llegada', 'codigo reserva': 'codigo_reserva', 'nombre hotel': 'nombre_hotel', 'tipo traslado': 'tipo_traslado',\n",
    "'aeropuerto salida': 'aeropuerto_salida', 'hora salida': 'hora_salida', 'aeropuerto llegada': 'aeropuerto_llegada', 'hora llegada': 'hora_llegada', 'ID_hosp_traslado': 'ID_ht'})\n",
    "tour = tour.rename(columns={'fecha inicio': 'fecha_inicio', 'fecha termino': 'fecha_termino'})"
   ]
  },
  {
   "cell_type": "code",
   "execution_count": 5,
   "metadata": {},
   "outputs": [],
   "source": [
    "# En eventos fecha de inicio, reemplazar las que estan escritas dd-mm-aaaa por dd/mm/aaaa\n",
    "eventos['Fecha_inicio'] = eventos['Fecha_inicio'].str.replace('-', '/')\n",
    "# en las fechas, reemplazar los numeros que están escritos como 1 por 02. No se puede hacer con un replace porque hay fechas que tienen 1 y otras que tienen 01\n",
    "eventos['Fecha_inicio'] = eventos['Fecha_inicio'].apply(lambda x: x.replace('/1/', '/01/'))\n",
    "eventos['Fecha_inicio'] = eventos['Fecha_inicio'].apply(lambda x: x.replace('/2/', '/02/'))\n",
    "eventos['Fecha_inicio'] = eventos['Fecha_inicio'].apply(lambda x: x.replace('/3/', '/03/'))\n",
    "eventos['Fecha_inicio'] = eventos['Fecha_inicio'].apply(lambda x: x.replace('/4/', '/04/'))\n",
    "eventos['Fecha_inicio'] = eventos['Fecha_inicio'].apply(lambda x: x.replace('/5/', '/05/'))\n",
    "eventos['Fecha_inicio'] = eventos['Fecha_inicio'].apply(lambda x: x.replace('/6/', '/06/'))\n",
    "eventos['Fecha_inicio'] = eventos['Fecha_inicio'].apply(lambda x: x.replace('/7/', '/07/'))\n",
    "eventos['Fecha_inicio'] = eventos['Fecha_inicio'].apply(lambda x: x.replace('/8/', '/08/'))\n",
    "eventos['Fecha_inicio'] = eventos['Fecha_inicio'].apply(lambda x: x.replace('/9/', '/09/'))\n",
    "\n",
    "hosp_traslados['fecha_inicio'] = hosp_traslados['fecha_inicio'].str.replace('-', '/')\n"
   ]
  },
  {
   "cell_type": "code",
   "execution_count": 6,
   "metadata": {},
   "outputs": [],
   "source": [
    "from datetime import datetime\n",
    "# convertir las fechas de los hosp y traslados a datetime\n",
    "hosp_traslados['fecha_inicio'] = hosp_traslados['fecha_inicio'].apply(lambda x: datetime.strptime(x, '%d/%m/%Y'))\n",
    "# convertir fecha_inicio a dia/mes/año\n",
    "hosp_traslados['fecha_inicio'] = hosp_traslados['fecha_inicio'].apply(lambda x: x.strftime('%d/%m/%Y'))\n",
    "\n",
    "# hacer lo mismo con fecha_termino\n",
    "hosp_traslados['fecha_termino'] = hosp_traslados['fecha_termino'].str.replace('-', '/')\n",
    "hosp_traslados['fecha_termino'] = hosp_traslados['fecha_termino'].apply(lambda x: datetime.strptime(x, '%d/%m/%Y'))\n",
    "hosp_traslados['fecha_termino'] = hosp_traslados['fecha_termino'].apply(lambda x: x.strftime('%d/%m/%Y'))\n"
   ]
  },
  {
   "cell_type": "code",
   "execution_count": 7,
   "metadata": {},
   "outputs": [],
   "source": [
    "# Transformar hora_llegada y hora_salida a string.\n",
    "hosp_traslados['hora_llegada'] = hosp_traslados['hora_llegada'].astype(str)\n",
    "hosp_traslados['hora_salida'] = hosp_traslados['hora_salida'].astype(str)\n",
    "# Transforamr string nan a objeto nan\n",
    "hosp_traslados['hora_llegada'] = hosp_traslados['hora_llegada'].apply(lambda x: np.nan if x == 'nan' else x)\n",
    "hosp_traslados['hora_salida'] = hosp_traslados['hora_salida'].apply(lambda x: np.nan if x == 'nan' else x)\n",
    "\n",
    "# convertir hora_llegada y hora_salida a datetime, ignorando los nan\n",
    "# usar formato de 24 horas\n",
    "hosp_traslados['hora_llegada'] = hosp_traslados['hora_llegada'].apply(lambda x: datetime.strptime(x, '%H:%M') if pd.notnull(x) else x)\n",
    "hosp_traslados['hora_salida'] = hosp_traslados['hora_salida'].apply(lambda x: datetime.strptime(x, '%H:%M') if pd.notnull(x) else x)\n",
    "\n",
    "# quitar cadena 1900-01-01 de hora_llegada y hora_salida\n",
    "hosp_traslados['hora_llegada'] = hosp_traslados['hora_llegada'].apply(lambda x: x.strftime('%H:%M') if pd.notnull(x) else x)\n",
    "hosp_traslados['hora_salida'] = hosp_traslados['hora_salida'].apply(lambda x: x.strftime('%H:%M') if pd.notnull(x) else x)"
   ]
  },
  {
   "cell_type": "code",
   "execution_count": 8,
   "metadata": {},
   "outputs": [],
   "source": [
    "entradas.to_csv('entradas_bdd.csv', index=False)\n",
    "artistas.to_csv('artistas_bdd.csv', index=False)\n",
    "eventos.to_csv('eventos_bdd.csv', index=False)\n",
    "productoras.to_csv('productoras_bdd.csv', index=False)\n",
    "hosp_traslados.to_csv('hosp_traslados_bdd.csv', index=False)\n",
    "tour.to_csv('tour_bdd.csv', index=False)"
   ]
  }
 ],
 "metadata": {
  "kernelspec": {
   "display_name": "Python 3.10.6 64-bit",
   "language": "python",
   "name": "python3"
  },
  "language_info": {
   "codemirror_mode": {
    "name": "ipython",
    "version": 3
   },
   "file_extension": ".py",
   "mimetype": "text/x-python",
   "name": "python",
   "nbconvert_exporter": "python",
   "pygments_lexer": "ipython3",
   "version": "3.10.6"
  },
  "orig_nbformat": 4,
  "vscode": {
   "interpreter": {
    "hash": "6e3977c52f5249dbc2a33b897faad1e0916758085298811edbd14ed6ad707d81"
   }
  }
 },
 "nbformat": 4,
 "nbformat_minor": 2
}
