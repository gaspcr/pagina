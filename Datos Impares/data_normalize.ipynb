{
 "cells": [
  {
   "cell_type": "code",
   "execution_count": 152,
   "metadata": {},
   "outputs": [],
   "source": [
    "import pandas as pd"
   ]
  },
  {
   "cell_type": "code",
   "execution_count": 153,
   "metadata": {},
   "outputs": [],
   "source": [
    "# Read the data\n",
    "artistas = pd.read_csv('Artistas.csv', sep=',')\n",
    "artistas = artistas.drop_duplicates()\n",
    "\n",
    "entradas = pd.read_csv('Entradas Cortesia.csv', sep=',')\n",
    "entradas = entradas.drop_duplicates()\n",
    "\n",
    "eventos = pd.read_csv('Eventos.csv', sep=',')\n",
    "eventos = eventos.drop_duplicates()\n",
    "\n",
    "hosp_traslados = pd.read_csv('Hospedajes y Traslados.csv', sep=',')\n",
    "hosp_traslados = hosp_traslados.drop_duplicates()\n",
    "\n",
    "productoras = pd.read_csv('Productoras.csv', sep=',')\n",
    "productoras = productoras.drop_duplicates()\n",
    "\n",
    "tour = pd.read_csv('Tour.csv', sep=',')\n",
    "tour = tour.drop_duplicates()\n",
    "\n",
    "\n",
    "artistas = artistas.rename(columns={'Nombre artistico': 'Artista'})\n",
    "entradas = entradas.rename(columns={'evento': 'Evento'})\n",
    "entradas = entradas.rename(columns={'artista': 'Artista'})"
   ]
  },
  {
   "cell_type": "code",
   "execution_count": 154,
   "metadata": {},
   "outputs": [
    {
     "data": {
      "text/html": [
       "<div>\n",
       "<style scoped>\n",
       "    .dataframe tbody tr th:only-of-type {\n",
       "        vertical-align: middle;\n",
       "    }\n",
       "\n",
       "    .dataframe tbody tr th {\n",
       "        vertical-align: top;\n",
       "    }\n",
       "\n",
       "    .dataframe thead th {\n",
       "        text-align: right;\n",
       "    }\n",
       "</style>\n",
       "<table border=\"1\" class=\"dataframe\">\n",
       "  <thead>\n",
       "    <tr style=\"text-align: right;\">\n",
       "      <th></th>\n",
       "      <th>Evento</th>\n",
       "      <th>asiento</th>\n",
       "      <th>Artista</th>\n",
       "    </tr>\n",
       "  </thead>\n",
       "  <tbody>\n",
       "    <tr>\n",
       "      <th>0</th>\n",
       "      <td>Bangerz</td>\n",
       "      <td>D15</td>\n",
       "      <td>Miley Cyrus</td>\n",
       "    </tr>\n",
       "    <tr>\n",
       "      <th>1</th>\n",
       "      <td>I Aint Worried</td>\n",
       "      <td>A17</td>\n",
       "      <td>One Republic</td>\n",
       "    </tr>\n",
       "    <tr>\n",
       "      <th>2</th>\n",
       "      <td>Show Forest</td>\n",
       "      <td>A12</td>\n",
       "      <td>One Direction</td>\n",
       "    </tr>\n",
       "    <tr>\n",
       "      <th>3</th>\n",
       "      <td>Bang Bang</td>\n",
       "      <td>C30</td>\n",
       "      <td>Jessie J</td>\n",
       "    </tr>\n",
       "    <tr>\n",
       "      <th>4</th>\n",
       "      <td>DJ Snake</td>\n",
       "      <td>D12</td>\n",
       "      <td>DJ Snake</td>\n",
       "    </tr>\n",
       "    <tr>\n",
       "      <th>...</th>\n",
       "      <td>...</td>\n",
       "      <td>...</td>\n",
       "      <td>...</td>\n",
       "    </tr>\n",
       "    <tr>\n",
       "      <th>270</th>\n",
       "      <td>Say you wont let go</td>\n",
       "      <td>A30</td>\n",
       "      <td>James Arthur</td>\n",
       "    </tr>\n",
       "    <tr>\n",
       "      <th>273</th>\n",
       "      <td>Epic Show</td>\n",
       "      <td>A29</td>\n",
       "      <td>The Martinez Brothers</td>\n",
       "    </tr>\n",
       "    <tr>\n",
       "      <th>283</th>\n",
       "      <td>Que oso</td>\n",
       "      <td>B28</td>\n",
       "      <td>Snow</td>\n",
       "    </tr>\n",
       "    <tr>\n",
       "      <th>293</th>\n",
       "      <td>Fruta y te</td>\n",
       "      <td>C0</td>\n",
       "      <td>Gepe</td>\n",
       "    </tr>\n",
       "    <tr>\n",
       "      <th>300</th>\n",
       "      <td>Beyond Wonderland</td>\n",
       "      <td>D26</td>\n",
       "      <td>Marshmello</td>\n",
       "    </tr>\n",
       "  </tbody>\n",
       "</table>\n",
       "<p>145 rows × 3 columns</p>\n",
       "</div>"
      ],
      "text/plain": [
       "                  Evento asiento                Artista\n",
       "0                Bangerz     D15            Miley Cyrus\n",
       "1         I Aint Worried     A17           One Republic\n",
       "2            Show Forest     A12          One Direction\n",
       "3              Bang Bang     C30               Jessie J\n",
       "4               DJ Snake     D12               DJ Snake\n",
       "..                   ...     ...                    ...\n",
       "270  Say you wont let go     A30           James Arthur\n",
       "273            Epic Show     A29  The Martinez Brothers\n",
       "283              Que oso     B28                   Snow\n",
       "293           Fruta y te      C0                   Gepe\n",
       "300    Beyond Wonderland     D26             Marshmello\n",
       "\n",
       "[145 rows x 3 columns]"
      ]
     },
     "execution_count": 154,
     "metadata": {},
     "output_type": "execute_result"
    }
   ],
   "source": [
    "entradas"
   ]
  },
  {
   "cell_type": "code",
   "execution_count": 155,
   "metadata": {},
   "outputs": [],
   "source": [
    "artistas['id'] = range(1, len(artistas) + 1)\n",
    "entradas['id'] = range(1, len(entradas) + 1)\n",
    "eventos['id'] = range(1, len(eventos) + 1)\n",
    "hosp_traslados['id'] = range(1, len(hosp_traslados) + 1)\n",
    "productoras['id'] = range(1, len(productoras) + 1)\n",
    "tour['id'] = range(1, len(tour) + 1)"
   ]
  },
  {
   "cell_type": "code",
   "execution_count": 156,
   "metadata": {},
   "outputs": [],
   "source": [
    "entradas = entradas.merge(artistas[['id', 'Artista']], on='Artista', how='left')\n",
    "entradas = entradas.rename(columns={'id_x': 'id_entrada', 'id_y': 'id_artista'})\n",
    "eventos = eventos.merge(artistas[['id', 'Artista']], on='Artista', how='left')\n",
    "eventos = eventos.rename(columns={'id_x': 'id_evento', 'id_y': 'id_artista'})\n",
    "entradas = entradas.drop(columns=['Artista'])\n",
    "eventos = eventos.drop(columns=['Artista'])\n",
    "entradas = entradas.merge(eventos[['id_evento', 'Evento']], on='Evento', how='left')\n",
    "entradas = entradas.drop(columns=['Evento'])"
   ]
  },
  {
   "cell_type": "code",
   "execution_count": 157,
   "metadata": {},
   "outputs": [],
   "source": [
    "entradas = entradas.rename(columns={'id_entrada': 'ID_entrada', 'id_artista': 'ID_artista', 'id_evento': 'ID_evento'})\n",
    "artistas = artistas.rename(columns={'Artista': 'Nombre', 'id': 'ID_artista', 'Inicio carrera': 'Fecha_inicio', 'Nº contacto': 'Contacto'})\n",
    "artistas['Artista'] = artistas['Nombre'].str.normalize('NFKD').str.encode('ascii', errors='ignore').str.decode('utf-8')\n",
    "artistas = artistas.drop(columns=['Artista'])\n",
    "# export artistas to csv\n",
    "artistas.to_csv('artistas_bdd.csv', index=False)\n",
    "# export entradas to csv\n",
    "entradas.to_csv('entradas_bdd.csv', index=False)"
   ]
  },
  {
   "cell_type": "code",
   "execution_count": null,
   "metadata": {},
   "outputs": [],
   "source": []
  }
 ],
 "metadata": {
  "kernelspec": {
   "display_name": "Python 3.10.6 64-bit",
   "language": "python",
   "name": "python3"
  },
  "language_info": {
   "codemirror_mode": {
    "name": "ipython",
    "version": 3
   },
   "file_extension": ".py",
   "mimetype": "text/x-python",
   "name": "python",
   "nbconvert_exporter": "python",
   "pygments_lexer": "ipython3",
   "version": "3.10.6"
  },
  "orig_nbformat": 4,
  "vscode": {
   "interpreter": {
    "hash": "6e3977c52f5249dbc2a33b897faad1e0916758085298811edbd14ed6ad707d81"
   }
  }
 },
 "nbformat": 4,
 "nbformat_minor": 2
}
